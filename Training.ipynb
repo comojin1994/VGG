{
  "nbformat": 4,
  "nbformat_minor": 0,
  "metadata": {
    "colab": {
      "name": "Training.ipynb",
      "provenance": [],
      "collapsed_sections": [],
      "authorship_tag": "ABX9TyNej5qJqs1BZSflqX6aPXgz",
      "include_colab_link": true
    },
    "kernelspec": {
      "name": "python3",
      "display_name": "Python 3"
    },
    "accelerator": "GPU"
  },
  "cells": [
    {
      "cell_type": "markdown",
      "metadata": {
        "id": "view-in-github",
        "colab_type": "text"
      },
      "source": [
        "<a href=\"https://colab.research.google.com/github/comojin1994/VGG/blob/master/Training.ipynb\" target=\"_parent\"><img src=\"https://colab.research.google.com/assets/colab-badge.svg\" alt=\"Open In Colab\"/></a>"
      ]
    },
    {
      "cell_type": "code",
      "metadata": {
        "id": "ctC3BNpKawrz",
        "colab_type": "code",
        "colab": {
          "base_uri": "https://localhost:8080/",
          "height": 125
        },
        "outputId": "e32b7916-c3e4-47fc-a667-bbec7ef724b2"
      },
      "source": [
        "from google.colab import drive\n",
        "drive.mount('/content/drive')"
      ],
      "execution_count": 1,
      "outputs": [
        {
          "output_type": "stream",
          "text": [
            "Go to this URL in a browser: https://accounts.google.com/o/oauth2/auth?client_id=947318989803-6bn6qk8qdgf4n4g3pfee6491hc0brc4i.apps.googleusercontent.com&redirect_uri=urn%3aietf%3awg%3aoauth%3a2.0%3aoob&response_type=code&scope=email%20https%3a%2f%2fwww.googleapis.com%2fauth%2fdocs.test%20https%3a%2f%2fwww.googleapis.com%2fauth%2fdrive%20https%3a%2f%2fwww.googleapis.com%2fauth%2fdrive.photos.readonly%20https%3a%2f%2fwww.googleapis.com%2fauth%2fpeopleapi.readonly\n",
            "\n",
            "Enter your authorization code:\n",
            "··········\n",
            "Mounted at /content/drive\n"
          ],
          "name": "stdout"
        }
      ]
    },
    {
      "cell_type": "code",
      "metadata": {
        "id": "yrWwzxety_FH",
        "colab_type": "code",
        "outputId": "195e66ce-d4db-429e-e6a1-2764b66b6bf7",
        "colab": {
          "base_uri": "https://localhost:8080/",
          "height": 52
        }
      },
      "source": [
        "%cd ./drive/My\\ Drive/Deep_learning/Paper_implementation/VGG\n",
        "!ls"
      ],
      "execution_count": 3,
      "outputs": [
        {
          "output_type": "stream",
          "text": [
            "/content/drive/My Drive/Deep_learning/Paper_implementation/VGG\n",
            "Evaluate.ipynb\tmodel.py  __pycache__  Training.ipynb  VGG16  VGG19\n"
          ],
          "name": "stdout"
        }
      ]
    },
    {
      "cell_type": "code",
      "metadata": {
        "id": "IW0yqyVanGWu",
        "colab_type": "code",
        "outputId": "18856ce9-d434-4b8e-c55b-513186e17440",
        "colab": {
          "base_uri": "https://localhost:8080/",
          "height": 52
        }
      },
      "source": [
        "%tensorflow_version 2.x\n",
        "import tensorflow as tf\n",
        "import numpy as np\n",
        "import os, math\n",
        "import tensorflow_datasets as tfds\n",
        "from tensorflow.keras import datasets\n",
        "from tensorflow.keras.preprocessing.image import ImageDataGenerator\n",
        "from datetime import datetime\n",
        "from model import VGG16, VGG19\n",
        "tf.__version__"
      ],
      "execution_count": 4,
      "outputs": [
        {
          "output_type": "stream",
          "text": [
            "TensorFlow 2.x selected.\n"
          ],
          "name": "stdout"
        },
        {
          "output_type": "execute_result",
          "data": {
            "text/plain": [
              "'2.1.0'"
            ]
          },
          "metadata": {
            "tags": []
          },
          "execution_count": 4
        }
      ]
    },
    {
      "cell_type": "markdown",
      "metadata": {
        "id": "j8F8S_U8nwbS",
        "colab_type": "text"
      },
      "source": [
        "### Hyperparameter"
      ]
    },
    {
      "cell_type": "code",
      "metadata": {
        "id": "CU18dcannv1t",
        "colab_type": "code",
        "colab": {}
      },
      "source": [
        "EPOCHS = 100\n",
        "batch_size = 32\n",
        "input_shape = (batch_size, 32, 32 ,3)\n",
        "num_classes = 10\n",
        "learning_rate = 0.001\n",
        "initial_epoch = 0\n",
        "\n",
        "loss_object = tf.keras.losses.SparseCategoricalCrossentropy()\n",
        "optimizer = tf.keras.optimizers.Adam(learning_rate)\n",
        "metrics = ['accuracy']"
      ],
      "execution_count": 0,
      "outputs": []
    },
    {
      "cell_type": "markdown",
      "metadata": {
        "id": "w-bkWA9nrwbG",
        "colab_type": "text"
      },
      "source": [
        "### Load Data"
      ]
    },
    {
      "cell_type": "code",
      "metadata": {
        "id": "9Fc61Q7GagFH",
        "colab_type": "code",
        "outputId": "4b99e2f9-83c3-4130-ecbb-cd360740d957",
        "colab": {
          "base_uri": "https://localhost:8080/",
          "height": 70
        }
      },
      "source": [
        "(train_x, train_y), (test_x, test_y) = datasets.cifar10.load_data()\n",
        "train_x.shape, train_y.shape, test_x.shape, test_y.shape"
      ],
      "execution_count": 6,
      "outputs": [
        {
          "output_type": "stream",
          "text": [
            "Downloading data from https://www.cs.toronto.edu/~kriz/cifar-10-python.tar.gz\n",
            "170500096/170498071 [==============================] - 11s 0us/step\n"
          ],
          "name": "stdout"
        },
        {
          "output_type": "execute_result",
          "data": {
            "text/plain": [
              "((50000, 32, 32, 3), (50000, 1), (10000, 32, 32, 3), (10000, 1))"
            ]
          },
          "metadata": {
            "tags": []
          },
          "execution_count": 6
        }
      ]
    },
    {
      "cell_type": "code",
      "metadata": {
        "id": "BOkk1P7Y-xfT",
        "colab_type": "code",
        "colab": {}
      },
      "source": [
        "train_datagen = ImageDataGenerator(\n",
        "    rescale=1./255.,\n",
        "    width_shift_range=0.2,\n",
        "    height_shift_range=0.2,\n",
        "    zoom_range=0.2,\n",
        "    horizontal_flip=True,\n",
        "    vertical_flip=True,\n",
        "    dtype=tf.float32\n",
        ")\n",
        "validation_datagen = ImageDataGenerator(\n",
        "    rescale=1./255.,\n",
        "    dtype=tf.float32\n",
        ")\n",
        "\n",
        "train_generator = train_datagen.flow(train_x, train_y, batch_size=batch_size)\n",
        "validation_generator = validation_datagen.flow(train_x, train_y, batch_size=batch_size)"
      ],
      "execution_count": 0,
      "outputs": []
    },
    {
      "cell_type": "markdown",
      "metadata": {
        "id": "LJ_zwPB1tv75",
        "colab_type": "text"
      },
      "source": [
        "### Callbacks"
      ]
    },
    {
      "cell_type": "code",
      "metadata": {
        "id": "-OoIL-1OteWw",
        "colab_type": "code",
        "colab": {}
      },
      "source": [
        "# Tensorboard\n",
        "logdir = os.path.join('VGG19/logs', datetime.now().strftime('%Y%m%d-%H%M%S'))\n",
        "tensorboard = tf.keras.callbacks.TensorBoard(\n",
        "      logdir,\n",
        "      histogram_freq=1,\n",
        "      write_graph=True,\n",
        "      write_images=True\n",
        ")\n",
        "\n",
        "# Learning rate scheduler\n",
        "def scheduler(epoch):\n",
        "    if epoch < 10: return 0.001\n",
        "    else: return 0.001 * math.exp(0.1 * (10 - epoch))\n",
        "learning_rate_scheduler = tf.keras.callbacks.LearningRateScheduler(scheduler, verbose=1)\n",
        "\n",
        "# checkpoint\n",
        "ckpt_dir = 'VGG19/checkpoints/'\n",
        "checkpoint = tf.keras.callbacks.ModelCheckpoint(\n",
        "      ckpt_dir,\n",
        "      monitor='val_accuracy',\n",
        "      verbose=1,\n",
        "      save_best_only=True\n",
        ")\n",
        "\n",
        "# EarlyStop\n",
        "earlystop = tf.keras.callbacks.EarlyStopping('val_accuracy', patience=7, verbose=1)\n",
        "\n",
        "callbacks = [tensorboard, learning_rate_scheduler, checkpoint, earlystop]"
      ],
      "execution_count": 0,
      "outputs": []
    },
    {
      "cell_type": "markdown",
      "metadata": {
        "id": "uF5QI0QGvMF0",
        "colab_type": "text"
      },
      "source": [
        "### Load and Compile Model"
      ]
    },
    {
      "cell_type": "code",
      "metadata": {
        "id": "mdzTntAivA3i",
        "colab_type": "code",
        "colab": {}
      },
      "source": [
        "model = VGG19()\n",
        "model.compile(optimizer=optimizer, loss=loss_object, metrics=metrics)\n",
        "\n",
        "# Load Weigth\n",
        "if initial_epoch > 1:\n",
        "    model.load_weights(ckpt_dir)"
      ],
      "execution_count": 0,
      "outputs": []
    },
    {
      "cell_type": "markdown",
      "metadata": {
        "id": "XnTR0XKBO7NP",
        "colab_type": "text"
      },
      "source": [
        "### Tenosorboard"
      ]
    },
    {
      "cell_type": "code",
      "metadata": {
        "id": "rF9Z6Qu8AzIr",
        "colab_type": "code",
        "outputId": "2955ebaa-8322-4b7a-d126-b4e9aaebbdac",
        "colab": {
          "base_uri": "https://localhost:8080/",
          "height": 246
        }
      },
      "source": [
        "!wget https://bin.equinox.io/c/4VmDzA7iaHb/ngrok-stable-linux-amd64.zip\n",
        "!unzip ngrok-stable-linux-amd64.zip"
      ],
      "execution_count": 11,
      "outputs": [
        {
          "output_type": "stream",
          "text": [
            "--2020-03-13 05:58:06--  https://bin.equinox.io/c/4VmDzA7iaHb/ngrok-stable-linux-amd64.zip\n",
            "Resolving bin.equinox.io (bin.equinox.io)... 3.95.127.176, 34.238.36.128, 52.7.103.227, ...\n",
            "Connecting to bin.equinox.io (bin.equinox.io)|3.95.127.176|:443... connected.\n",
            "HTTP request sent, awaiting response... 200 OK\n",
            "Length: 13773305 (13M) [application/octet-stream]\n",
            "Saving to: ‘ngrok-stable-linux-amd64.zip’\n",
            "\n",
            "ngrok-stable-linux- 100%[===================>]  13.13M  6.05MB/s    in 2.2s    \n",
            "\n",
            "2020-03-13 05:58:09 (6.05 MB/s) - ‘ngrok-stable-linux-amd64.zip’ saved [13773305/13773305]\n",
            "\n",
            "Archive:  ngrok-stable-linux-amd64.zip\n",
            "  inflating: ngrok                   \n"
          ],
          "name": "stdout"
        }
      ]
    },
    {
      "cell_type": "code",
      "metadata": {
        "id": "326m5kYBBB09",
        "colab_type": "code",
        "outputId": "07d5279f-18b5-4b07-b25d-2277d109a227",
        "colab": {
          "base_uri": "https://localhost:8080/",
          "height": 34
        }
      },
      "source": [
        "get_ipython().system_raw(\n",
        "      'tensorboard --logdir {} --host 0.0.0.0 --port 6006 &'\n",
        "      .format(logdir))\n",
        "get_ipython().system_raw('./ngrok http 6006 &')\n",
        "!curl -s http://localhost:4040/api/tunnels | python3 -c \\\n",
        "      \"import sys, json; print(json.load(sys.stdin)['tunnels'][0]['public_url'])\""
      ],
      "execution_count": 12,
      "outputs": [
        {
          "output_type": "stream",
          "text": [
            "https://c8bf62d4.ngrok.io\n"
          ],
          "name": "stdout"
        }
      ]
    },
    {
      "cell_type": "markdown",
      "metadata": {
        "id": "zbQWbdAFxHyq",
        "colab_type": "text"
      },
      "source": [
        "### Training"
      ]
    },
    {
      "cell_type": "code",
      "metadata": {
        "id": "r99Dd-Zyw_xH",
        "colab_type": "code",
        "outputId": "5b97a66a-ed5c-4558-854e-a885af132137",
        "colab": {
          "base_uri": "https://localhost:8080/",
          "height": 1000
        }
      },
      "source": [
        "history = model.fit(\n",
        "      train_generator,\n",
        "      epochs=EPOCHS,\n",
        "      callbacks=callbacks,\n",
        "      validation_data=validation_generator,\n",
        "      initial_epoch=initial_epoch,\n",
        "      steps_per_epoch=len(train_generator),\n",
        "      validation_steps=len(validation_generator)\n",
        ")"
      ],
      "execution_count": 13,
      "outputs": [
        {
          "output_type": "stream",
          "text": [
            "WARNING:tensorflow:sample_weight modes were coerced from\n",
            "  ...\n",
            "    to  \n",
            "  ['...']\n",
            "Train for 1563 steps, validate for 1563 steps\n",
            "\n",
            "Epoch 00001: LearningRateScheduler reducing learning rate to 0.001.\n",
            "Epoch 1/100\n",
            "   1/1563 [..............................] - ETA: 3:59:16 - loss: 2.3697 - accuracy: 0.0312WARNING:tensorflow:Method (on_train_batch_end) is slow compared to the batch update (0.170941). Check your callbacks.\n",
            "1562/1563 [============================>.] - ETA: 0s - loss: 2.1416 - accuracy: 0.1695\n",
            "Epoch 00001: val_accuracy improved from -inf to 0.13832, saving model to VGG19/checkpoints/\n",
            "1563/1563 [==============================] - 252s 161ms/step - loss: 2.1415 - accuracy: 0.1695 - val_loss: 2.3361 - val_accuracy: 0.1383\n",
            "\n",
            "Epoch 00002: LearningRateScheduler reducing learning rate to 0.001.\n",
            "Epoch 2/100\n",
            "1562/1563 [============================>.] - ETA: 0s - loss: 1.9594 - accuracy: 0.2157\n",
            "Epoch 00002: val_accuracy improved from 0.13832 to 0.21134, saving model to VGG19/checkpoints/\n",
            "1563/1563 [==============================] - 241s 154ms/step - loss: 1.9593 - accuracy: 0.2157 - val_loss: 1.9984 - val_accuracy: 0.2113\n",
            "\n",
            "Epoch 00003: LearningRateScheduler reducing learning rate to 0.001.\n",
            "Epoch 3/100\n",
            "1562/1563 [============================>.] - ETA: 0s - loss: 1.8878 - accuracy: 0.2389\n",
            "Epoch 00003: val_accuracy improved from 0.21134 to 0.22910, saving model to VGG19/checkpoints/\n",
            "1563/1563 [==============================] - 243s 155ms/step - loss: 1.8879 - accuracy: 0.2389 - val_loss: 2.0166 - val_accuracy: 0.2291\n",
            "\n",
            "Epoch 00004: LearningRateScheduler reducing learning rate to 0.001.\n",
            "Epoch 4/100\n",
            "1562/1563 [============================>.] - ETA: 0s - loss: 1.7915 - accuracy: 0.3031\n",
            "Epoch 00004: val_accuracy improved from 0.22910 to 0.26244, saving model to VGG19/checkpoints/\n",
            "1563/1563 [==============================] - 243s 156ms/step - loss: 1.7915 - accuracy: 0.3031 - val_loss: 1.9245 - val_accuracy: 0.2624\n",
            "\n",
            "Epoch 00005: LearningRateScheduler reducing learning rate to 0.001.\n",
            "Epoch 5/100\n",
            "1562/1563 [============================>.] - ETA: 0s - loss: 1.6567 - accuracy: 0.3508\n",
            "Epoch 00005: val_accuracy improved from 0.26244 to 0.26570, saving model to VGG19/checkpoints/\n",
            "1563/1563 [==============================] - 243s 155ms/step - loss: 1.6569 - accuracy: 0.3507 - val_loss: 1.9017 - val_accuracy: 0.2657\n",
            "\n",
            "Epoch 00006: LearningRateScheduler reducing learning rate to 0.001.\n",
            "Epoch 6/100\n",
            "1562/1563 [============================>.] - ETA: 0s - loss: 1.5711 - accuracy: 0.3993\n",
            "Epoch 00006: val_accuracy improved from 0.26570 to 0.28598, saving model to VGG19/checkpoints/\n",
            "1563/1563 [==============================] - 242s 155ms/step - loss: 1.5709 - accuracy: 0.3994 - val_loss: 1.9902 - val_accuracy: 0.2860\n",
            "\n",
            "Epoch 00007: LearningRateScheduler reducing learning rate to 0.001.\n",
            "Epoch 7/100\n",
            "1562/1563 [============================>.] - ETA: 0s - loss: 1.4824 - accuracy: 0.4437\n",
            "Epoch 00007: val_accuracy improved from 0.28598 to 0.42450, saving model to VGG19/checkpoints/\n",
            "1563/1563 [==============================] - 241s 154ms/step - loss: 1.4824 - accuracy: 0.4437 - val_loss: 1.5568 - val_accuracy: 0.4245\n",
            "\n",
            "Epoch 00008: LearningRateScheduler reducing learning rate to 0.001.\n",
            "Epoch 8/100\n",
            "1562/1563 [============================>.] - ETA: 0s - loss: 1.3798 - accuracy: 0.4886\n",
            "Epoch 00008: val_accuracy improved from 0.42450 to 0.44012, saving model to VGG19/checkpoints/\n",
            "1563/1563 [==============================] - 241s 154ms/step - loss: 1.3798 - accuracy: 0.4887 - val_loss: 1.5215 - val_accuracy: 0.4401\n",
            "\n",
            "Epoch 00009: LearningRateScheduler reducing learning rate to 0.001.\n",
            "Epoch 9/100\n",
            "1562/1563 [============================>.] - ETA: 0s - loss: 1.2864 - accuracy: 0.5309\n",
            "Epoch 00009: val_accuracy improved from 0.44012 to 0.51164, saving model to VGG19/checkpoints/\n",
            "1563/1563 [==============================] - 242s 155ms/step - loss: 1.2863 - accuracy: 0.5310 - val_loss: 1.3287 - val_accuracy: 0.5116\n",
            "\n",
            "Epoch 00010: LearningRateScheduler reducing learning rate to 0.001.\n",
            "Epoch 10/100\n",
            "1562/1563 [============================>.] - ETA: 0s - loss: 1.2071 - accuracy: 0.5697\n",
            "Epoch 00010: val_accuracy improved from 0.51164 to 0.57420, saving model to VGG19/checkpoints/\n",
            "1563/1563 [==============================] - 242s 155ms/step - loss: 1.2071 - accuracy: 0.5697 - val_loss: 1.1645 - val_accuracy: 0.5742\n",
            "\n",
            "Epoch 00011: LearningRateScheduler reducing learning rate to 0.001.\n",
            "Epoch 11/100\n",
            "1562/1563 [============================>.] - ETA: 0s - loss: 1.1424 - accuracy: 0.5928\n",
            "Epoch 00011: val_accuracy did not improve from 0.57420\n",
            "1563/1563 [==============================] - 241s 154ms/step - loss: 1.1424 - accuracy: 0.5929 - val_loss: 1.2582 - val_accuracy: 0.5467\n",
            "\n",
            "Epoch 00012: LearningRateScheduler reducing learning rate to 0.0009048374180359595.\n",
            "Epoch 12/100\n",
            "1562/1563 [============================>.] - ETA: 0s - loss: 1.0630 - accuracy: 0.6243\n",
            "Epoch 00012: val_accuracy improved from 0.57420 to 0.58182, saving model to VGG19/checkpoints/\n",
            "1563/1563 [==============================] - 241s 154ms/step - loss: 1.0630 - accuracy: 0.6243 - val_loss: 1.1460 - val_accuracy: 0.5818\n",
            "\n",
            "Epoch 00013: LearningRateScheduler reducing learning rate to 0.0008187307530779819.\n",
            "Epoch 13/100\n",
            "1562/1563 [============================>.] - ETA: 0s - loss: 1.0045 - accuracy: 0.6429\n",
            "Epoch 00013: val_accuracy did not improve from 0.58182\n",
            "1563/1563 [==============================] - 240s 154ms/step - loss: 1.0045 - accuracy: 0.6429 - val_loss: 1.6035 - val_accuracy: 0.4761\n",
            "\n",
            "Epoch 00014: LearningRateScheduler reducing learning rate to 0.0007408182206817179.\n",
            "Epoch 14/100\n",
            "1562/1563 [============================>.] - ETA: 0s - loss: 0.9588 - accuracy: 0.6586\n",
            "Epoch 00014: val_accuracy improved from 0.58182 to 0.61592, saving model to VGG19/checkpoints/\n",
            "1563/1563 [==============================] - 242s 155ms/step - loss: 0.9587 - accuracy: 0.6586 - val_loss: 1.0654 - val_accuracy: 0.6159\n",
            "\n",
            "Epoch 00015: LearningRateScheduler reducing learning rate to 0.0006703200460356394.\n",
            "Epoch 15/100\n",
            "1562/1563 [============================>.] - ETA: 0s - loss: 0.9174 - accuracy: 0.6739\n",
            "Epoch 00015: val_accuracy improved from 0.61592 to 0.67130, saving model to VGG19/checkpoints/\n",
            "1563/1563 [==============================] - 241s 154ms/step - loss: 0.9173 - accuracy: 0.6739 - val_loss: 0.9115 - val_accuracy: 0.6713\n",
            "\n",
            "Epoch 00016: LearningRateScheduler reducing learning rate to 0.0006065306597126335.\n",
            "Epoch 16/100\n",
            "1562/1563 [============================>.] - ETA: 0s - loss: 0.8767 - accuracy: 0.6880\n",
            "Epoch 00016: val_accuracy improved from 0.67130 to 0.67580, saving model to VGG19/checkpoints/\n",
            "1563/1563 [==============================] - 242s 155ms/step - loss: 0.8767 - accuracy: 0.6880 - val_loss: 0.8940 - val_accuracy: 0.6758\n",
            "\n",
            "Epoch 00017: LearningRateScheduler reducing learning rate to 0.0005488116360940264.\n",
            "Epoch 17/100\n",
            "1562/1563 [============================>.] - ETA: 0s - loss: 0.8464 - accuracy: 0.6986\n",
            "Epoch 00017: val_accuracy improved from 0.67580 to 0.69950, saving model to VGG19/checkpoints/\n",
            "1563/1563 [==============================] - 242s 155ms/step - loss: 0.8463 - accuracy: 0.6986 - val_loss: 0.8529 - val_accuracy: 0.6995\n",
            "\n",
            "Epoch 00018: LearningRateScheduler reducing learning rate to 0.0004965853037914095.\n",
            "Epoch 18/100\n",
            "1562/1563 [============================>.] - ETA: 0s - loss: 0.8172 - accuracy: 0.7102\n",
            "Epoch 00018: val_accuracy improved from 0.69950 to 0.70446, saving model to VGG19/checkpoints/\n",
            "1563/1563 [==============================] - 242s 155ms/step - loss: 0.8171 - accuracy: 0.7102 - val_loss: 0.8290 - val_accuracy: 0.7045\n",
            "\n",
            "Epoch 00019: LearningRateScheduler reducing learning rate to 0.0004493289641172216.\n",
            "Epoch 19/100\n",
            "1562/1563 [============================>.] - ETA: 0s - loss: 0.7846 - accuracy: 0.7221\n",
            "Epoch 00019: val_accuracy did not improve from 0.70446\n",
            "1563/1563 [==============================] - 242s 155ms/step - loss: 0.7846 - accuracy: 0.7221 - val_loss: 0.8894 - val_accuracy: 0.6881\n",
            "\n",
            "Epoch 00020: LearningRateScheduler reducing learning rate to 0.00040656965974059914.\n",
            "Epoch 20/100\n",
            "1562/1563 [============================>.] - ETA: 0s - loss: 0.7639 - accuracy: 0.7292\n",
            "Epoch 00020: val_accuracy did not improve from 0.70446\n",
            "1563/1563 [==============================] - 240s 154ms/step - loss: 0.7638 - accuracy: 0.7292 - val_loss: 0.8272 - val_accuracy: 0.7017\n",
            "\n",
            "Epoch 00021: LearningRateScheduler reducing learning rate to 0.00036787944117144236.\n",
            "Epoch 21/100\n",
            "1562/1563 [============================>.] - ETA: 0s - loss: 0.7421 - accuracy: 0.7349\n",
            "Epoch 00021: val_accuracy improved from 0.70446 to 0.71274, saving model to VGG19/checkpoints/\n",
            "1563/1563 [==============================] - 243s 155ms/step - loss: 0.7420 - accuracy: 0.7349 - val_loss: 0.8242 - val_accuracy: 0.7127\n",
            "\n",
            "Epoch 00022: LearningRateScheduler reducing learning rate to 0.00033287108369807955.\n",
            "Epoch 22/100\n",
            "1562/1563 [============================>.] - ETA: 0s - loss: 0.7221 - accuracy: 0.7425\n",
            "Epoch 00022: val_accuracy improved from 0.71274 to 0.71700, saving model to VGG19/checkpoints/\n",
            "1563/1563 [==============================] - 244s 156ms/step - loss: 0.7221 - accuracy: 0.7425 - val_loss: 0.7981 - val_accuracy: 0.7170\n",
            "\n",
            "Epoch 00023: LearningRateScheduler reducing learning rate to 0.00030119421191220205.\n",
            "Epoch 23/100\n",
            "1562/1563 [============================>.] - ETA: 0s - loss: 0.7053 - accuracy: 0.7490\n",
            "Epoch 00023: val_accuracy improved from 0.71700 to 0.72320, saving model to VGG19/checkpoints/\n",
            "1563/1563 [==============================] - 242s 155ms/step - loss: 0.7053 - accuracy: 0.7489 - val_loss: 0.7776 - val_accuracy: 0.7232\n",
            "\n",
            "Epoch 00024: LearningRateScheduler reducing learning rate to 0.0002725317930340126.\n",
            "Epoch 24/100\n",
            "1562/1563 [============================>.] - ETA: 0s - loss: 0.6831 - accuracy: 0.7599\n",
            "Epoch 00024: val_accuracy improved from 0.72320 to 0.73650, saving model to VGG19/checkpoints/\n",
            "1563/1563 [==============================] - 242s 155ms/step - loss: 0.6830 - accuracy: 0.7599 - val_loss: 0.7521 - val_accuracy: 0.7365\n",
            "\n",
            "Epoch 00025: LearningRateScheduler reducing learning rate to 0.00024659696394160646.\n",
            "Epoch 25/100\n",
            "1562/1563 [============================>.] - ETA: 0s - loss: 0.6699 - accuracy: 0.7636\n",
            "Epoch 00025: val_accuracy improved from 0.73650 to 0.74898, saving model to VGG19/checkpoints/\n",
            "1563/1563 [==============================] - 241s 154ms/step - loss: 0.6698 - accuracy: 0.7636 - val_loss: 0.7175 - val_accuracy: 0.7490\n",
            "\n",
            "Epoch 00026: LearningRateScheduler reducing learning rate to 0.00022313016014842982.\n",
            "Epoch 26/100\n",
            "1562/1563 [============================>.] - ETA: 0s - loss: 0.6592 - accuracy: 0.7687\n",
            "Epoch 00026: val_accuracy did not improve from 0.74898\n",
            "1563/1563 [==============================] - 240s 154ms/step - loss: 0.6595 - accuracy: 0.7686 - val_loss: 0.7207 - val_accuracy: 0.7485\n",
            "\n",
            "Epoch 00027: LearningRateScheduler reducing learning rate to 0.00020189651799465538.\n",
            "Epoch 27/100\n",
            "1562/1563 [============================>.] - ETA: 0s - loss: 0.6474 - accuracy: 0.7709\n",
            "Epoch 00027: val_accuracy did not improve from 0.74898\n",
            "1563/1563 [==============================] - 240s 154ms/step - loss: 0.6476 - accuracy: 0.7708 - val_loss: 0.7330 - val_accuracy: 0.7486\n",
            "\n",
            "Epoch 00028: LearningRateScheduler reducing learning rate to 0.0001826835240527346.\n",
            "Epoch 28/100\n",
            "1562/1563 [============================>.] - ETA: 0s - loss: 0.6341 - accuracy: 0.7764\n",
            "Epoch 00028: val_accuracy improved from 0.74898 to 0.75076, saving model to VGG19/checkpoints/\n",
            "1563/1563 [==============================] - 242s 155ms/step - loss: 0.6338 - accuracy: 0.7765 - val_loss: 0.7177 - val_accuracy: 0.7508\n",
            "\n",
            "Epoch 00029: LearningRateScheduler reducing learning rate to 0.00016529888822158653.\n",
            "Epoch 29/100\n",
            "1562/1563 [============================>.] - ETA: 0s - loss: 0.6192 - accuracy: 0.7792\n",
            "Epoch 00029: val_accuracy improved from 0.75076 to 0.76694, saving model to VGG19/checkpoints/\n",
            "1563/1563 [==============================] - 241s 154ms/step - loss: 0.6191 - accuracy: 0.7793 - val_loss: 0.6703 - val_accuracy: 0.7669\n",
            "\n",
            "Epoch 00030: LearningRateScheduler reducing learning rate to 0.00014956861922263504.\n",
            "Epoch 30/100\n",
            "1562/1563 [============================>.] - ETA: 0s - loss: 0.6199 - accuracy: 0.7824\n",
            "Epoch 00030: val_accuracy improved from 0.76694 to 0.78514, saving model to VGG19/checkpoints/\n",
            "1563/1563 [==============================] - 241s 154ms/step - loss: 0.6200 - accuracy: 0.7824 - val_loss: 0.6291 - val_accuracy: 0.7851\n",
            "\n",
            "Epoch 00031: LearningRateScheduler reducing learning rate to 0.0001353352832366127.\n",
            "Epoch 31/100\n",
            "1562/1563 [============================>.] - ETA: 0s - loss: 0.6068 - accuracy: 0.7878\n",
            "Epoch 00031: val_accuracy did not improve from 0.78514\n",
            "1563/1563 [==============================] - 240s 154ms/step - loss: 0.6068 - accuracy: 0.7878 - val_loss: 0.6440 - val_accuracy: 0.7793\n",
            "\n",
            "Epoch 00032: LearningRateScheduler reducing learning rate to 0.0001224564282529819.\n",
            "Epoch 32/100\n",
            "1562/1563 [============================>.] - ETA: 0s - loss: 0.6016 - accuracy: 0.7875\n",
            "Epoch 00032: val_accuracy did not improve from 0.78514\n",
            "1563/1563 [==============================] - 240s 154ms/step - loss: 0.6016 - accuracy: 0.7874 - val_loss: 0.6449 - val_accuracy: 0.7763\n",
            "\n",
            "Epoch 00033: LearningRateScheduler reducing learning rate to 0.00011080315836233387.\n",
            "Epoch 33/100\n",
            "1562/1563 [============================>.] - ETA: 0s - loss: 0.5917 - accuracy: 0.7909\n",
            "Epoch 00033: val_accuracy did not improve from 0.78514\n",
            "1563/1563 [==============================] - 240s 154ms/step - loss: 0.5916 - accuracy: 0.7910 - val_loss: 0.6642 - val_accuracy: 0.7718\n",
            "\n",
            "Epoch 00034: LearningRateScheduler reducing learning rate to 0.00010025884372280371.\n",
            "Epoch 34/100\n",
            "1562/1563 [============================>.] - ETA: 0s - loss: 0.5851 - accuracy: 0.7938\n",
            "Epoch 00034: val_accuracy did not improve from 0.78514\n",
            "1563/1563 [==============================] - 241s 154ms/step - loss: 0.5853 - accuracy: 0.7937 - val_loss: 0.6387 - val_accuracy: 0.7797\n",
            "\n",
            "Epoch 00035: LearningRateScheduler reducing learning rate to 9.071795328941248e-05.\n",
            "Epoch 35/100\n",
            "1562/1563 [============================>.] - ETA: 0s - loss: 0.5844 - accuracy: 0.7941\n",
            "Epoch 00035: val_accuracy did not improve from 0.78514\n",
            "1563/1563 [==============================] - 241s 154ms/step - loss: 0.5847 - accuracy: 0.7940 - val_loss: 0.6313 - val_accuracy: 0.7836\n",
            "\n",
            "Epoch 00036: LearningRateScheduler reducing learning rate to 8.20849986238988e-05.\n",
            "Epoch 36/100\n",
            "1562/1563 [============================>.] - ETA: 0s - loss: 0.5738 - accuracy: 0.7983\n",
            "Epoch 00036: val_accuracy did not improve from 0.78514\n",
            "1563/1563 [==============================] - 242s 155ms/step - loss: 0.5738 - accuracy: 0.7983 - val_loss: 0.6572 - val_accuracy: 0.7743\n",
            "\n",
            "Epoch 00037: LearningRateScheduler reducing learning rate to 7.427357821433387e-05.\n",
            "Epoch 37/100\n",
            "1562/1563 [============================>.] - ETA: 0s - loss: 0.5700 - accuracy: 0.7988\n",
            "Epoch 00037: val_accuracy did not improve from 0.78514\n",
            "1563/1563 [==============================] - 241s 154ms/step - loss: 0.5700 - accuracy: 0.7988 - val_loss: 0.6380 - val_accuracy: 0.7843\n",
            "Epoch 00037: early stopping\n"
          ],
          "name": "stdout"
        }
      ]
    },
    {
      "cell_type": "code",
      "metadata": {
        "id": "kK3jT_rMBi8U",
        "colab_type": "code",
        "colab": {
          "base_uri": "https://localhost:8080/",
          "height": 350
        },
        "outputId": "a35c4eff-abcf-4bfb-d9f5-d48149ef6e03"
      },
      "source": [
        "import matplotlib.pyplot as plt\n",
        "%matplotlib inline\n",
        "\n",
        "plt.figure(figsize=(10, 5))\n",
        "\n",
        "plt.subplot(121)\n",
        "plt.plot(history.history['accuracy'])\n",
        "plt.plot(history.history['val_accuracy'])\n",
        "plt.title('AlexNet Accuracy')\n",
        "plt.xlabel('Epoch')\n",
        "plt.ylabel('Accuracy')\n",
        "plt.legend(['train', 'validation'])\n",
        "\n",
        "plt.subplot(122)\n",
        "plt.plot(history.history['loss'])\n",
        "plt.plot(history.history['val_loss'])\n",
        "plt.title('Training loss')\n",
        "plt.xlabel('Epoch')\n",
        "plt.ylabel('loss')\n",
        "plt.legend(['train', 'validation'])\n",
        "plt.show()"
      ],
      "execution_count": 15,
      "outputs": [
        {
          "output_type": "display_data",
          "data": {
            "image/png": "[encoded data removed]",
            "text/plain": [
              "<Figure size 720x360 with 2 Axes>"
            ]
          },
          "metadata": {
            "tags": []
          }
        }
      ]
    }
  ]
}